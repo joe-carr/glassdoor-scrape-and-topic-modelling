{
 "cells": [
  {
   "cell_type": "code",
   "execution_count": 37,
   "metadata": {
    "collapsed": true,
    "pycharm": {
     "name": "#%%\n"
    }
   },
   "outputs": [
    {
     "name": "stderr",
     "output_type": "stream",
     "text": [
      "e:\\latest pycharm\\venv\\lib\\site-packages\\ipykernel\\ipkernel.py:287: DeprecationWarning: `should_run_async` will not call `transform_cell` automatically in the future. Please pass the result to `transformed_cell` argument and any exception that happen during thetransform in `preprocessing_exc_tuple` in IPython 7.17 and above.\n",
      "  and should_run_async(code)\n"
     ]
    },
    {
     "name": "stdout",
     "output_type": "stream",
     "text": [
      "[['11 January 2021', '5.0\\n★★★★★', 'Pros\\nGood work-life balance for a consulting firm. Good salaries and rapid promotions. Amazing professionals and people. Company takes very well care of its employees.', 'Cons\\nToo specialized in procurement and too much travel', 1, 'Former Employee - Consultant in London, England', 'I worked at Efficio full-time for more than 3 years'], ['6 February 2021', '3.0\\n★★★★★', 'Pros\\nFinally starting to move forward with modern cloud technology A good amount of freedom to make some choices like which frameworks to use A good opportunity to learn new technologies and solve challenging problems', 'Cons\\nSenior leadership have little technical understanding, no CTO or head of Engineering to make decisions Due to lack of technical leadership, lots of bad short term decisions are made which increasingly build up technical debt Ceiling for technical people, you can only progress above senior level if you are like a consultant Lack of DevOps people, mostly developers being told to churn out more and more features without regard for long term maintenance and scalability No operations team to fix production issues', 2, 'Current Employee - Software Engineer in Fareham, England', 'I have been working at Efficio full-time for more than 3 years'], ['5 January 2021', '5.0\\n★★★★★', 'Pros\\nThe people and the culture is the reason to work for Efficio. Despite rapid growth in recent years, Efficio has still managed to maintain a collaborative and tight-knit environment.', 'Cons\\nWith rapid growth comes the need for more formalised processes and systems; this is under continuous improvement.', 3, 'Former Employee - Management Consultant ', 'I worked at Efficio full-time']]\n"
     ]
    }
   ],
   "source": [
    "from selenium import webdriver\n",
    "from selenium.webdriver.support.ui import WebDriverWait\n",
    "from selenium.webdriver.support.expected_conditions import presence_of_element_located\n",
    "from selenium.webdriver.common.by import By\n",
    "from time import sleep\n",
    "from selenium.webdriver.support import expected_conditions\n",
    "from selenium.common.exceptions import StaleElementReferenceException\n",
    "from selenium.common.exceptions import NoSuchElementException\n",
    "import gensim\n",
    "import gensim.corpora as corpora\n",
    "import re\n",
    "import pandas as pd\n",
    "from selenium.webdriver.chrome.options import Options\n",
    "from gensim.models import CoherenceModel\n",
    "import nltk\n",
    "import spacy\n",
    "from pprint import pprint\n",
    "import pyLDAvis.gensim\n",
    "\n",
    "options = Options()\n",
    "options.headless = True\n",
    "options.add_argument(\"--window-size=1920,1200\")\n",
    "\n",
    "DRIVER_PATH = 'chromedriver.exe'\n",
    "driver = webdriver.Chrome(executable_path=DRIVER_PATH)\n",
    "def glassdoor_review_scrape(email_val, password_val, review_page_1_url):\n",
    "    driver.get('https://www.glassdoor.co.uk/profile/login_input.htm')\n",
    "    email_address = driver.find_element_by_id('userEmail')\n",
    "    password = driver.find_element_by_id('userPassword')\n",
    "    email_address.send_keys(email_val)\n",
    "    password.send_keys(password_val)\n",
    "    submit_login = driver.find_element_by_name('submit').click()\n",
    "    success  = WebDriverWait(driver, 10).until(presence_of_element_located((By.XPATH, \"//*[contains(text(), 'Your Glassdoor Dashboard')]\")))\n",
    "\n",
    "    driver.get(review_page_1_url)\n",
    "    review_id = 0\n",
    "    all_records = []\n",
    "    ignored_exceptions=(NoSuchElementException,StaleElementReferenceException,)\n",
    "\n",
    "    while True:\n",
    "        sleep(2) #temporary measure to avoid stale elements; needs revision\n",
    "        waited  = WebDriverWait(driver, 10,ignored_exceptions=ignored_exceptions).until(expected_conditions.presence_of_element_located((By.CSS_SELECTOR, \"[class^='v2__EIReviewDetailsV2__fullWidth']\")))\n",
    "        waited_2  = WebDriverWait(driver, 10,ignored_exceptions=ignored_exceptions).until(expected_conditions.presence_of_element_located((By.XPATH, './/div[@class=\"author minor\"]')))\n",
    "        reviews = driver.find_elements_by_class_name('gdReview')\n",
    "        for review in reviews:\n",
    "            review_date = review.find_element_by_xpath('.//time').text\n",
    "            score = review.find_element_by_class_name('v2__EIReviewsRatingsStylesV2__ratingInfo').text\n",
    "            pros = review.find_elements_by_css_selector(\"[class^='v2__EIReviewDetailsV2__fullWidth']\")[0].text\n",
    "            cons = review.find_elements_by_css_selector(\"[class^='v2__EIReviewDetailsV2__fullWidth']\")[1].text\n",
    "            review_id += 1\n",
    "            job_status = review.find_element_by_xpath('.//div[@class=\"author minor\"]').text\n",
    "            employment_duration = review.find_element_by_xpath('.//p[@class=\"mainText mb-0\"]').text\n",
    "            record = [review_date, score, pros, cons, review_id, job_status, employment_duration]\n",
    "            all_records.append(record)\n",
    "\n",
    "        next_button = driver.find_element_by_xpath('//button[@class=\"nextButton css-sed91k\"]')\n",
    "        if next_button.get_property('disabled') == True:\n",
    "            break\n",
    "        if next_button.get_property('disabled type') == True:\n",
    "            break\n",
    "\n",
    "\n",
    "        driver.execute_script(\"window.scrollTo(0, document.body.scrollHeight);\")\n",
    "\n",
    "        next_button.click()\n",
    "        waited_3  = WebDriverWait(driver, 10).until(presence_of_element_located((By.XPATH, '//button[@class=\"nextButton css-sed91k\"]')))\n",
    "        driver.quit()\n",
    "        return all_records\n",
    "\n",
    "all_records = glassdoor_review_scrape('*****', '*****', 'https://www.glassdoor.co.uk/Reviews/Efficio-Reviews-E220701.htm?filter.iso3Language=eng')\n",
    "print(all_records[0:3])\n",
    "\n"
   ]
  },
  {
   "cell_type": "code",
   "execution_count": 38,
   "outputs": [
    {
     "name": "stderr",
     "output_type": "stream",
     "text": [
      "e:\\latest pycharm\\venv\\lib\\site-packages\\ipykernel\\ipkernel.py:287: DeprecationWarning: `should_run_async` will not call `transform_cell` automatically in the future. Please pass the result to `transformed_cell` argument and any exception that happen during thetransform in `preprocessing_exc_tuple` in IPython 7.17 and above.\n",
      "  and should_run_async(code)\n"
     ]
    },
    {
     "data": {
      "text/plain": "0    Good work-life balance for a consulting firm. ...\n1    Finally starting to move forward with modern c...\n2    The people and the culture is the reason to wo...\n3    - Good place to build core analytical skills (...\n4                 Big clients and interesting projects\nName: Pros, dtype: object"
     },
     "execution_count": 38,
     "metadata": {},
     "output_type": "execute_result"
    }
   ],
   "source": [
    "df = pd.DataFrame.from_records(all_records, columns=['Date', 'Rating', 'Pros', 'Cons', 'Index', 'Job title', 'Employment duration'])\n",
    "\n",
    "df['Pros'] = df['Pros'].map(lambda x: x.lstrip('Pros\\n'))\n",
    "df['Cons'] = df['Cons'].map(lambda x: x.lstrip('Cons\\n'))\n",
    "\n",
    "df['Pros'].head(5)\n"
   ],
   "metadata": {
    "collapsed": false,
    "pycharm": {
     "name": "#%%\n"
    }
   }
  },
  {
   "cell_type": "code",
   "execution_count": 39,
   "outputs": [
    {
     "name": "stderr",
     "output_type": "stream",
     "text": [
      "e:\\latest pycharm\\venv\\lib\\site-packages\\ipykernel\\ipkernel.py:287: DeprecationWarning: `should_run_async` will not call `transform_cell` automatically in the future. Please pass the result to `transformed_cell` argument and any exception that happen during thetransform in `preprocessing_exc_tuple` in IPython 7.17 and above.\n",
      "  and should_run_async(code)\n",
      "<>:1: DeprecationWarning: invalid escape sequence \\!\n",
      "<>:1: DeprecationWarning: invalid escape sequence \\!\n",
      "<ipython-input-39-355f26184c68>:1: DeprecationWarning: invalid escape sequence \\!\n",
      "  df['Pros'] = df['Pros'].map(lambda x: re.sub('[,\\!?]', '', x))\n",
      "[nltk_data] Downloading package stopwords to\n",
      "[nltk_data]     C:\\Users\\Joe\\AppData\\Roaming\\nltk_data...\n",
      "[nltk_data]   Package stopwords is already up-to-date!\n"
     ]
    }
   ],
   "source": [
    "df['Pros'] = df['Pros'].map(lambda x: re.sub('[,\\!?]', '', x))\n",
    "df['Pros'] = df['Pros'].map(lambda x: x.lower())\n",
    "df.head()\n",
    "\n",
    "\n",
    "\n",
    "nltk.download('stopwords')\n",
    "from nltk.corpus import stopwords"
   ],
   "metadata": {
    "collapsed": false,
    "pycharm": {
     "name": "#%%\n"
    }
   }
  },
  {
   "cell_type": "code",
   "execution_count": 40,
   "outputs": [
    {
     "name": "stdout",
     "output_type": "stream",
     "text": [
      "['good work-life balance for a consulting firm. good salaries and rapid promotions. amazing professionals and people. company takes very well care of its employees.', 'finally starting to move forward with modern cloud technology a good amount of freedom to make some choices like which frameworks to use a good opportunity to learn new technologies and solve challenging problems', 'the people and the culture is the reason to work for efficio. despite rapid growth in recent years efficio has still managed to maintain a collaborative and tight-knit environment.']\n",
      "['good work', 'life balance for a consulting firm', ' good salaries and rapid promotions']\n"
     ]
    },
    {
     "name": "stderr",
     "output_type": "stream",
     "text": [
      "e:\\latest pycharm\\venv\\lib\\site-packages\\ipykernel\\ipkernel.py:287: DeprecationWarning: `should_run_async` will not call `transform_cell` automatically in the future. Please pass the result to `transformed_cell` argument and any exception that happen during thetransform in `preprocessing_exc_tuple` in IPython 7.17 and above.\n",
      "  and should_run_async(code)\n"
     ]
    }
   ],
   "source": [
    "pro_sentence_list = df['Pros'].tolist()\n",
    "print(pro_sentence_list[0:3])\n",
    "pro_sentence_list = [re.split(r'-|\\.',sentence) for sentence in pro_sentence_list]\n",
    "pro_sentence_list = [point for sentence in pro_sentence_list for point in sentence if point!='']\n",
    "print(pro_sentence_list[0:3])\n",
    "stpword = stopwords.words('english')\n",
    "\n",
    "def sentences_to_words(sentences):\n",
    "    for i in sentences:\n",
    "        yield(gensim.utils.simple_preprocess(i, deacc=True))\n",
    "\n",
    "pro_word_list = list(sentences_to_words(pro_sentence_list))\n",
    "\n",
    "\n",
    "def rm_stopwords(words_list):\n",
    "    return [[word for word in words if word not in stpword] for words in words_list]\n",
    "\n",
    "pro_word_list = rm_stopwords(pro_word_list)\n"
   ],
   "metadata": {
    "collapsed": false,
    "pycharm": {
     "name": "#%%\n"
    }
   }
  },
  {
   "cell_type": "code",
   "execution_count": 41,
   "outputs": [
    {
     "name": "stderr",
     "output_type": "stream",
     "text": [
      "e:\\latest pycharm\\venv\\lib\\site-packages\\ipykernel\\ipkernel.py:287: DeprecationWarning: `should_run_async` will not call `transform_cell` automatically in the future. Please pass the result to `transformed_cell` argument and any exception that happen during thetransform in `preprocessing_exc_tuple` in IPython 7.17 and above.\n",
      "  and should_run_async(code)\n"
     ]
    }
   ],
   "source": [
    "\n",
    "nlp = spacy.load('en_core_web_sm', disable=['parser', 'ner'])\n",
    "\n",
    "def lemmatization(texts, allowed_postags=['NOUN', 'ADJ', 'VERB', 'ADV']):\n",
    "    texts_out = []\n",
    "    for sent in texts:\n",
    "        doc = nlp(\" \".join(sent))\n",
    "        texts_out.append([token.lemma_ for token in doc if token.pos_ in allowed_postags])\n",
    "    return texts_out\n",
    "\n",
    "pro_word_list_lemm = lemmatization(pro_word_list, allowed_postags=['NOUN', 'ADJ', 'VERB', 'ADV'])"
   ],
   "metadata": {
    "collapsed": false,
    "pycharm": {
     "name": "#%%\n"
    }
   }
  },
  {
   "cell_type": "code",
   "execution_count": 42,
   "outputs": [
    {
     "name": "stdout",
     "output_type": "stream",
     "text": [
      "[['good', 'work'], ['life', 'balance', 'consulting', 'firm'], ['good', 'salarie', 'rapid', 'promotion']]\n"
     ]
    },
    {
     "name": "stderr",
     "output_type": "stream",
     "text": [
      "e:\\latest pycharm\\venv\\lib\\site-packages\\ipykernel\\ipkernel.py:287: DeprecationWarning: `should_run_async` will not call `transform_cell` automatically in the future. Please pass the result to `transformed_cell` argument and any exception that happen during thetransform in `preprocessing_exc_tuple` in IPython 7.17 and above.\n",
      "  and should_run_async(code)\n"
     ]
    }
   ],
   "source": [
    "print(pro_word_list_lemm[0:3])\n",
    "\n",
    "id2word = corpora.Dictionary(pro_word_list_lemm)\n",
    "texts = pro_word_list_lemm\n",
    "corpus = [id2word.doc2bow(text) for text in texts]"
   ],
   "metadata": {
    "collapsed": false,
    "pycharm": {
     "name": "#%%\n"
    }
   }
  },
  {
   "cell_type": "code",
   "execution_count": 43,
   "outputs": [
    {
     "name": "stdout",
     "output_type": "stream",
     "text": [
      "[(0,\n",
      "  '0.042*\"work\" + 0.042*\"company\" + 0.042*\"consulting\" + 0.023*\"environment\" + '\n",
      "  '0.023*\"great\" + 0.023*\"diversity\" + 0.023*\"skillset\" + 0.023*\"cliquey\" + '\n",
      "  '0.023*\"senior\" + 0.023*\"quickly\"'),\n",
      " (1,\n",
      "  '0.080*\"good\" + 0.067*\"work\" + 0.041*\"culture\" + 0.028*\"project\" + '\n",
      "  '0.028*\"place\" + 0.028*\"dynamic\" + 0.028*\"promotion\" + 0.016*\"challenge\" + '\n",
      "  '0.015*\"people\" + 0.015*\"life\"'),\n",
      " (2,\n",
      "  '0.035*\"amazing\" + 0.035*\"professional\" + 0.035*\"people\" + 0.035*\"still\" + '\n",
      "  '0.035*\"recent\" + 0.035*\"collaborative\" + 0.035*\"year\" + 0.035*\"manage\" + '\n",
      "  '0.035*\"maintain\" + 0.035*\"rapid\"'),\n",
      " (3,\n",
      "  '0.040*\"technology\" + 0.040*\"good\" + 0.022*\"top\" + 0.022*\"big\" + '\n",
      "  '0.022*\"procurement\" + 0.022*\"set\" + 0.022*\"interesting\" + 0.022*\"team\" + '\n",
      "  '0.022*\"member\" + 0.022*\"great\"'),\n",
      " (4,\n",
      "  '0.031*\"technology\" + 0.031*\"lot\" + 0.031*\"pay\" + 0.031*\"company\" + '\n",
      "  '0.031*\"manager\" + 0.031*\"level\" + 0.031*\"efficio\" + 0.031*\"reason\" + '\n",
      "  '0.031*\"develop\" + 0.031*\"suite\"')]\n"
     ]
    },
    {
     "name": "stderr",
     "output_type": "stream",
     "text": [
      "e:\\latest pycharm\\venv\\lib\\site-packages\\ipykernel\\ipkernel.py:287: DeprecationWarning: `should_run_async` will not call `transform_cell` automatically in the future. Please pass the result to `transformed_cell` argument and any exception that happen during thetransform in `preprocessing_exc_tuple` in IPython 7.17 and above.\n",
      "  and should_run_async(code)\n"
     ]
    }
   ],
   "source": [
    "\n",
    "lda_model = gensim.models.ldamodel.LdaModel(corpus=corpus,\n",
    "                                           id2word=id2word,\n",
    "                                           num_topics=5,\n",
    "                                           random_state=100,\n",
    "                                           update_every=1,\n",
    "                                           chunksize=100,\n",
    "                                           passes=10,\n",
    "                                           alpha='auto',\n",
    "                                           per_word_topics=True)\n",
    "\n",
    "pprint(lda_model.print_topics())\n",
    "doc_lda = lda_model[corpus]"
   ],
   "metadata": {
    "collapsed": false,
    "pycharm": {
     "name": "#%%\n"
    }
   }
  },
  {
   "cell_type": "code",
   "execution_count": 44,
   "outputs": [
    {
     "name": "stderr",
     "output_type": "stream",
     "text": [
      "e:\\latest pycharm\\venv\\lib\\site-packages\\ipykernel\\ipkernel.py:287: DeprecationWarning: `should_run_async` will not call `transform_cell` automatically in the future. Please pass the result to `transformed_cell` argument and any exception that happen during thetransform in `preprocessing_exc_tuple` in IPython 7.17 and above.\n",
      "  and should_run_async(code)\n"
     ]
    },
    {
     "name": "stdout",
     "output_type": "stream",
     "text": [
      "\n",
      "Perplexity:  -5.2961969304084775\n",
      "\n",
      "Coherence Score:  0.43984108873593497\n"
     ]
    }
   ],
   "source": [
    "print('\\nPerplexity: ', lda_model.log_perplexity(corpus))  # a measure of how good the model is. lower the better.\n",
    "coherence_model_lda = CoherenceModel(model=lda_model, texts=pro_word_list_lemm, dictionary=id2word, coherence='c_v')\n",
    "coherence_lda = coherence_model_lda.get_coherence()\n",
    "print('\\nCoherence Score: ', coherence_lda)"
   ],
   "metadata": {
    "collapsed": false,
    "pycharm": {
     "name": "#%%\n"
    }
   }
  },
  {
   "cell_type": "code",
   "execution_count": 45,
   "outputs": [
    {
     "name": "stderr",
     "output_type": "stream",
     "text": [
      "e:\\latest pycharm\\venv\\lib\\site-packages\\ipykernel\\ipkernel.py:287: DeprecationWarning: `should_run_async` will not call `transform_cell` automatically in the future. Please pass the result to `transformed_cell` argument and any exception that happen during thetransform in `preprocessing_exc_tuple` in IPython 7.17 and above.\n",
      "  and should_run_async(code)\n"
     ]
    },
    {
     "data": {
      "text/plain": "PreparedData(topic_coordinates=              x         y  topics  cluster       Freq\ntopic                                                \n1     -0.061097  0.128535       1        1  36.895829\n3     -0.101007 -0.089150       2        1  22.061634\n0      0.120076 -0.008149       3        1  20.626470\n4      0.035010  0.001648       4        1  11.419280\n2      0.007018 -0.032885       5        1   8.996787, topic_info=          Term      Freq     Total Category  logprob  loglift\n13     company  2.000000  2.000000  Default  30.0000  30.0000\n10      people  2.000000  2.000000  Default  29.0000  29.0000\n0         good  6.000000  6.000000  Default  28.0000  28.0000\n37     efficio  1.000000  1.000000  Default  27.0000  27.0000\n34  technology  2.000000  2.000000  Default  26.0000  26.0000\n..         ...       ...       ...      ...      ...      ...\n36     culture  0.078092  3.128030   Topic5  -5.1522  -1.2820\n2      balance  0.078092  2.291746   Topic5  -5.1522  -0.9709\n13     company  0.078092  2.167492   Topic5  -5.1522  -0.9151\n87    exposure  0.078091  1.847995   Topic5  -5.1522  -0.7557\n6    promotion  0.078091  1.972180   Topic5  -5.1522  -0.8207\n\n[221 rows x 6 columns], token_table=      Topic      Freq        Term\nterm                             \n17        2  0.864395      amount\n49        1  0.793497  analytical\n2         1  0.436348     balance\n2         3  0.436348     balance\n2         4  0.436348     balance\n...     ...       ...         ...\n1         1  0.698502        work\n1         3  0.174625        work\n1         4  0.174625        work\n69        1  0.793498   workforce\n70        1  0.793499       young\n\n[117 rows x 3 columns], R=30, lambda_step=0.01, plot_opts={'xlab': 'PC1', 'ylab': 'PC2'}, topic_order=[2, 4, 1, 5, 3])",
      "text/html": "\n<link rel=\"stylesheet\" type=\"text/css\" href=\"https://cdn.jsdelivr.net/gh/bmabey/pyLDAvis@3.2.2/pyLDAvis/js/ldavis.v1.0.0.css\">\n\n\n<div id=\"ldavis_el583612539828023204078177536\"></div>\n<script type=\"text/javascript\">\n\nvar ldavis_el583612539828023204078177536_data = {\"mdsDat\": {\"x\": [-0.06109749832102073, -0.10100724322665373, 0.1200761797040531, 0.03501039964183278, 0.007018162201788645], \"y\": [0.12853526843298824, -0.08914951533563963, -0.00814882687946127, 0.0016483992738304898, -0.032885325491717896], \"topics\": [1, 2, 3, 4, 5], \"cluster\": [1, 1, 1, 1, 1], \"Freq\": [36.89582863126645, 22.061634398610853, 20.626469574675895, 11.41928042445715, 8.996786970989655]}, \"tinfo\": {\"Term\": [\"company\", \"people\", \"good\", \"efficio\", \"technology\", \"culture\", \"work\", \"rapid\", \"consulting\", \"amazing\", \"professional\", \"still\", \"recent\", \"collaborative\", \"year\", \"manage\", \"maintain\", \"tight\", \"growth\", \"environment\", \"lot\", \"pay\", \"manager\", \"level\", \"reason\", \"develop\", \"suite\", \"knit\", \"balance\", \"life\", \"dynamic\", \"promotion\", \"good\", \"culture\", \"ppt\", \"core\", \"analytical\", \"sql\", \"excel\", \"support\", \"solid\", \"hour\", \"skill\", \"tableau\", \"frequent\", \"workforce\", \"young\", \"speak\", \"much\", \"language\", \"option\", \"party\", \"salary\", \"decent\", \"travel\", \"second\", \"flexibility\", \"salarie\", \"comp\", \"location\", \"work\", \"project\", \"place\", \"challenge\", \"people\", \"life\", \"balance\", \"client\", \"build\", \"exposure\", \"rapid\", \"top\", \"big\", \"procurement\", \"set\", \"interesting\", \"team\", \"member\", \"choice\", \"make\", \"learn\", \"forward\", \"cloud\", \"move\", \"modern\", \"finally\", \"new\", \"use\", \"freedom\", \"start\", \"opportunity\", \"framework\", \"problem\", \"solve\", \"amount\", \"technology\", \"great\", \"client\", \"challenge\", \"place\", \"project\", \"good\", \"consulting\", \"diversity\", \"skillset\", \"cliquey\", \"senior\", \"quickly\", \"strong\", \"colleague\", \"high\", \"standard\", \"sometimes\", \"diverse\", \"quite\", \"care\", \"employee\", \"take\", \"well\", \"however\", \"talented\", \"firm\", \"company\", \"environment\", \"great\", \"exposure\", \"build\", \"balance\", \"life\", \"work\", \"growth\", \"tight\", \"lot\", \"pay\", \"manager\", \"level\", \"reason\", \"develop\", \"suite\", \"knit\", \"efficio\", \"environment\", \"people\", \"company\", \"technology\", \"balance\", \"life\", \"culture\", \"amazing\", \"professional\", \"still\", \"recent\", \"collaborative\", \"year\", \"manage\", \"maintain\", \"tight\", \"growth\", \"work\", \"firm\", \"well\", \"take\", \"make\", \"modern\", \"framework\", \"problem\", \"new\", \"finally\", \"freedom\", \"good\", \"challenge\", \"choice\", \"opportunity\", \"start\", \"use\", \"amazing\", \"professional\", \"still\", \"recent\", \"collaborative\", \"year\", \"manage\", \"maintain\", \"tight\", \"growth\", \"efficio\", \"rapid\", \"people\", \"knit\", \"suite\", \"reason\", \"develop\", \"manager\", \"level\", \"pay\", \"lot\", \"firm\", \"take\", \"talented\", \"care\", \"quite\", \"well\", \"however\", \"standard\", \"employee\", \"work\", \"good\", \"environment\", \"project\", \"client\", \"great\", \"place\", \"life\", \"member\", \"technology\", \"consulting\", \"culture\", \"balance\", \"company\", \"exposure\", \"promotion\"], \"Freq\": [2.0, 2.0, 6.0, 1.0, 2.0, 3.0, 5.0, 1.0, 1.0, 0.0, 0.0, 0.0, 0.0, 0.0, 0.0, 0.0, 0.0, 0.0, 0.0, 1.0, 0.0, 0.0, 0.0, 0.0, 0.0, 0.0, 0.0, 0.0, 2.0, 2.0, 1.5662377471909095, 1.5662163053538831, 4.429552830524477, 2.2787506100882178, 0.8543148956119654, 0.8543126792682344, 0.8543125761824795, 0.8543097928670962, 0.8543095351527089, 0.8543088650953018, 0.8543086073809144, 0.8543087104666693, 0.8543073188089778, 0.8543072672661003, 0.8543063394943059, 0.854305566351144, 0.8543039169790649, 0.8543032469216579, 0.8543024222356185, 0.854302267606986, 0.8543019068068437, 0.854300721320662, 0.8543003605205197, 0.8542996904631127, 0.8542990204057056, 0.8542990204057056, 0.8542966494333422, 0.8542925775460223, 0.8542924229173898, 0.8542900004021489, 3.697392853594304, 1.5668389433136842, 1.5668387371421744, 0.8594622766130832, 0.8547048690228807, 0.8546632739207648, 0.854648945000829, 0.8545690019978777, 0.8544013845603551, 0.8543724174632186, 0.8543471614532597, 0.7292809023815471, 0.7292780669647863, 0.7292752315480254, 0.7292700538304623, 0.7292685128430922, 0.7292655541473418, 0.7292535960853507, 0.7265228431867219, 0.7263284322201228, 0.7263114813590528, 0.7261746416805968, 0.726091366723122, 0.7260212209780397, 0.7259134751411292, 0.7259013321606537, 0.7255763687440682, 0.7255134964593722, 0.7254101886660874, 0.7252894985352691, 0.7251746641564567, 0.7250737603034692, 0.7246200319822464, 0.7245766377779073, 0.7239835425589419, 1.329192216681946, 0.7292527331324234, 0.7290527129717975, 0.7246229290385021, 0.728779526730844, 0.7287643634151232, 1.3233695034451607, 1.2929992166976247, 0.7052840826690785, 0.7052831605940292, 0.7052825842971234, 0.7052813740736212, 0.7052813740736212, 0.7052806248876436, 0.7052777434031147, 0.7052767636983748, 0.7052750348076574, 0.705274400881061, 0.7052739974732269, 0.7052724991012719, 0.7052710007293167, 0.7052705396917921, 0.7052695023573616, 0.7052678887260254, 0.7052680616150971, 0.7052673124291196, 0.7052584374567702, 1.2930299909523946, 0.7053036767638758, 0.7052923813445221, 0.7052277784613814, 0.7052190187484132, 0.7050799583050427, 0.7050719477780519, 1.2975140419170756, 0.12014738023792466, 0.1200369689544839, 0.5324080476955233, 0.5324067076812763, 0.5324034852660633, 0.5324031662150521, 0.5323985080702887, 0.5323926375316828, 0.5323847250666052, 0.5323689958517533, 0.532400741427367, 0.5323503313675987, 0.5323225101194227, 0.5324036447915689, 0.5327068708726059, 0.5323590095551031, 0.532356329526609, 0.5320556877587627, 0.08874476460414951, 0.08874448543451471, 0.08874005860173442, 0.08873969966934683, 0.08873886216044245, 0.08873949228618956, 0.08873913335380196, 0.0887395560963918, 0.08873947633363899, 0.088739675740521, 0.5318490384188136, 0.08874352030520585, 0.08874258708099812, 0.08874145444990839, 0.0889790437616679, 0.0889762839704211, 0.08897732088620747, 0.08894680365698694, 0.08894378064865589, 0.08893912250389249, 0.08893663390600519, 0.0890300360895317, 0.08894568697844776, 0.08892203732224314, 0.08892151886434996, 0.08891218662227258, 0.08890591726990267, 0.4684764016759596, 0.46847338526805243, 0.46733122241399017, 0.46729236102545235, 0.467280898675405, 0.4672673248398226, 0.4672634537830083, 0.4672405290829136, 0.4668427151534187, 0.4667695169882039, 0.467023347713595, 0.46712047604820695, 0.46835861094718334, 0.07809729553818162, 0.07809024468469854, 0.07808961626638454, 0.0780895157194543, 0.0780886359338147, 0.07808795724203557, 0.078087033467114, 0.07808643646971569, 0.07808962883475082, 0.07808878675421006, 0.07808868620727982, 0.07808843483995422, 0.07808832800884084, 0.07808821489354431, 0.07808823374609374, 0.07808762418032916, 0.07808758019104718, 0.07814215832161812, 0.0781065270032143, 0.07809930647678642, 0.07809753433714095, 0.07809577476586174, 0.07809414716242849, 0.0780935375966639, 0.07809345590228309, 0.07809304114619584, 0.07809245043298069, 0.07809209851872484, 0.07809204824525973, 0.07809169004682075, 0.07809157064734108, 0.07809072856680033, 0.0780906154515038], \"Total\": [2.0, 2.0, 6.0, 1.0, 2.0, 3.0, 5.0, 1.0, 1.0, 0.0, 0.0, 0.0, 0.0, 0.0, 0.0, 0.0, 0.0, 0.0, 0.0, 1.0, 0.0, 0.0, 0.0, 0.0, 0.0, 0.0, 0.0, 0.0, 2.0, 2.0, 1.9721847958271517, 1.9721796433927765, 6.037634725247229, 3.1280299276215087, 1.2602449489744847, 1.2602445757288514, 1.2602446633152817, 1.2602437125177501, 1.2602435772543212, 1.2602432758244337, 1.2602432097918312, 1.2602434590597131, 1.2602426205519721, 1.2602426773771436, 1.2602427986720988, 1.2602422662957584, 1.260241775994373, 1.2602412713787552, 1.260241536893747, 1.2602416728051724, 1.2602413040261513, 1.260240773699228, 1.2602406084755953, 1.260240720068769, 1.2602404226609938, 1.2602404779359575, 1.2602397679702448, 1.260239155803648, 1.2602389686395974, 1.2602375731771536, 5.7265430496643726, 2.5800167535454457, 2.5800208278318753, 1.868673045307369, 2.0945190294836147, 2.291748854670051, 2.2917464707853825, 1.868025794036872, 1.848003419030597, 1.8479952436770453, 1.651366845053143, 1.1560612732889968, 1.1560606927095927, 1.156061052626069, 1.1560593357799516, 1.1560591644864184, 1.1560592739390427, 1.1560579552808035, 1.1564276438909356, 1.1564264811612528, 1.1564814679809352, 1.1565038747225151, 1.1565595096412438, 1.156556456305315, 1.1564992253768966, 1.1565240346728485, 1.1565767173872488, 1.1566104173719756, 1.156609233114236, 1.1566448326285905, 1.1566590474930827, 1.1566420368416748, 1.1567388862751704, 1.1567856140851853, 1.1568787128788558, 2.2086692848447975, 1.7438012026805894, 1.868025794036872, 1.868673045307369, 2.5800208278318753, 2.5800167535454457, 6.037634725247229, 1.7238027775155438, 1.1360554657288022, 1.1360547489910835, 1.1360555569702697, 1.1360549887768552, 1.1360550157840155, 1.1360548563641077, 1.1360551209339689, 1.1360545365118033, 1.1360540360695763, 1.136054438707113, 1.136054550425005, 1.1360540987403949, 1.1360538717740065, 1.1360544743312098, 1.136053383523065, 1.1360534557082556, 1.136054727628646, 1.1360536148652134, 1.1360529657306246, 2.1674916600030834, 1.5797589386978825, 1.7438012026805894, 1.8479952436770453, 1.848003419030597, 2.2917464707853825, 2.291748854670051, 5.7265430496643726, 0.9396061123335977, 0.93956940360722, 0.9919972075329329, 0.9919970542062517, 0.9919975636906959, 0.9919983898640677, 0.9919993702455662, 0.9920015623472213, 0.9920046329497103, 0.9920067530203114, 1.3831680270153028, 1.5797589386978825, 2.0945190294836147, 2.1674916600030834, 2.2086692848447975, 2.2917464707853825, 2.291748854670051, 3.1280299276215087, 0.9387427989395593, 0.9387451856388482, 0.9393221543341231, 0.9393418161803856, 0.9393477615454018, 0.9393545873350799, 0.9393565467805032, 0.9393680529599142, 0.93956940360722, 0.9396061123335977, 5.7265430496643726, 1.1360529657306246, 1.1360534557082556, 1.136053383523065, 1.1564264811612528, 1.1564992253768966, 1.1566420368416748, 1.1567388862751704, 1.1565767173872488, 1.1565240346728485, 1.156609233114236, 6.037634725247229, 1.868673045307369, 1.1564276438909356, 1.1566590474930827, 1.1566448326285905, 1.1566104173719756, 0.9387427989395593, 0.9387451856388482, 0.9393221543341231, 0.9393418161803856, 0.9393477615454018, 0.9393545873350799, 0.9393565467805032, 0.9393680529599142, 0.93956940360722, 0.9396061123335977, 1.3831680270153028, 1.651366845053143, 2.0945190294836147, 0.9920067530203114, 0.9920046329497103, 0.9919993702455662, 0.9920015623472213, 0.9919975636906959, 0.9919983898640677, 0.9919970542062517, 0.9919972075329329, 1.1360529657306246, 1.136053383523065, 1.1360536148652134, 1.1360538717740065, 1.1360540987403949, 1.1360534557082556, 1.136054727628646, 1.1360540360695763, 1.1360544743312098, 5.7265430496643726, 6.037634725247229, 1.5797589386978825, 2.5800167535454457, 1.868025794036872, 1.7438012026805894, 2.5800208278318753, 2.291748854670051, 1.1560579552808035, 2.2086692848447975, 1.7238027775155438, 3.1280299276215087, 2.2917464707853825, 2.1674916600030834, 1.8479952436770453, 1.9721796433927765], \"Category\": [\"Default\", \"Default\", \"Default\", \"Default\", \"Default\", \"Default\", \"Default\", \"Default\", \"Default\", \"Default\", \"Default\", \"Default\", \"Default\", \"Default\", \"Default\", \"Default\", \"Default\", \"Default\", \"Default\", \"Default\", \"Default\", \"Default\", \"Default\", \"Default\", \"Default\", \"Default\", \"Default\", \"Default\", \"Default\", \"Default\", \"Topic1\", \"Topic1\", \"Topic1\", \"Topic1\", \"Topic1\", \"Topic1\", \"Topic1\", \"Topic1\", \"Topic1\", \"Topic1\", \"Topic1\", \"Topic1\", \"Topic1\", \"Topic1\", \"Topic1\", \"Topic1\", \"Topic1\", \"Topic1\", \"Topic1\", \"Topic1\", \"Topic1\", \"Topic1\", \"Topic1\", \"Topic1\", \"Topic1\", \"Topic1\", \"Topic1\", \"Topic1\", \"Topic1\", \"Topic1\", \"Topic1\", \"Topic1\", \"Topic1\", \"Topic1\", \"Topic1\", \"Topic1\", \"Topic1\", \"Topic1\", \"Topic1\", \"Topic1\", \"Topic1\", \"Topic2\", \"Topic2\", \"Topic2\", \"Topic2\", \"Topic2\", \"Topic2\", \"Topic2\", \"Topic2\", \"Topic2\", \"Topic2\", \"Topic2\", \"Topic2\", \"Topic2\", \"Topic2\", \"Topic2\", \"Topic2\", \"Topic2\", \"Topic2\", \"Topic2\", \"Topic2\", \"Topic2\", \"Topic2\", \"Topic2\", \"Topic2\", \"Topic2\", \"Topic2\", \"Topic2\", \"Topic2\", \"Topic2\", \"Topic2\", \"Topic2\", \"Topic3\", \"Topic3\", \"Topic3\", \"Topic3\", \"Topic3\", \"Topic3\", \"Topic3\", \"Topic3\", \"Topic3\", \"Topic3\", \"Topic3\", \"Topic3\", \"Topic3\", \"Topic3\", \"Topic3\", \"Topic3\", \"Topic3\", \"Topic3\", \"Topic3\", \"Topic3\", \"Topic3\", \"Topic3\", \"Topic3\", \"Topic3\", \"Topic3\", \"Topic3\", \"Topic3\", \"Topic3\", \"Topic3\", \"Topic3\", \"Topic4\", \"Topic4\", \"Topic4\", \"Topic4\", \"Topic4\", \"Topic4\", \"Topic4\", \"Topic4\", \"Topic4\", \"Topic4\", \"Topic4\", \"Topic4\", \"Topic4\", \"Topic4\", \"Topic4\", \"Topic4\", \"Topic4\", \"Topic4\", \"Topic4\", \"Topic4\", \"Topic4\", \"Topic4\", \"Topic4\", \"Topic4\", \"Topic4\", \"Topic4\", \"Topic4\", \"Topic4\", \"Topic4\", \"Topic4\", \"Topic4\", \"Topic4\", \"Topic4\", \"Topic4\", \"Topic4\", \"Topic4\", \"Topic4\", \"Topic4\", \"Topic4\", \"Topic4\", \"Topic4\", \"Topic4\", \"Topic4\", \"Topic5\", \"Topic5\", \"Topic5\", \"Topic5\", \"Topic5\", \"Topic5\", \"Topic5\", \"Topic5\", \"Topic5\", \"Topic5\", \"Topic5\", \"Topic5\", \"Topic5\", \"Topic5\", \"Topic5\", \"Topic5\", \"Topic5\", \"Topic5\", \"Topic5\", \"Topic5\", \"Topic5\", \"Topic5\", \"Topic5\", \"Topic5\", \"Topic5\", \"Topic5\", \"Topic5\", \"Topic5\", \"Topic5\", \"Topic5\", \"Topic5\", \"Topic5\", \"Topic5\", \"Topic5\", \"Topic5\", \"Topic5\", \"Topic5\", \"Topic5\", \"Topic5\", \"Topic5\", \"Topic5\", \"Topic5\", \"Topic5\", \"Topic5\", \"Topic5\", \"Topic5\"], \"logprob\": [30.0, 29.0, 28.0, 27.0, 26.0, 25.0, 24.0, 23.0, 22.0, 21.0, 20.0, 19.0, 18.0, 17.0, 16.0, 15.0, 14.0, 13.0, 12.0, 11.0, 10.0, 9.0, 8.0, 7.0, 6.0, 5.0, 4.0, 3.0, 2.0, 1.0, -3.5649, -3.5649, -2.5253, -3.1899, -4.171, -4.171, -4.171, -4.171, -4.171, -4.171, -4.171, -4.171, -4.171, -4.171, -4.171, -4.171, -4.171, -4.171, -4.171, -4.171, -4.171, -4.171, -4.171, -4.171, -4.171, -4.171, -4.171, -4.171, -4.171, -4.171, -2.7059, -3.5645, -3.5645, -4.165, -4.1706, -4.1706, -4.1706, -4.1707, -4.1709, -4.171, -4.171, -3.815, -3.815, -3.815, -3.815, -3.815, -3.815, -3.815, -3.8188, -3.8191, -3.8191, -3.8193, -3.8194, -3.8195, -3.8196, -3.8196, -3.8201, -3.8202, -3.8203, -3.8205, -3.8206, -3.8208, -3.8214, -3.8215, -3.8223, -3.2147, -3.815, -3.8153, -3.8214, -3.8157, -3.8157, -3.2191, -3.1751, -3.7812, -3.7812, -3.7812, -3.7812, -3.7812, -3.7812, -3.7812, -3.7812, -3.7812, -3.7812, -3.7812, -3.7812, -3.7812, -3.7812, -3.7812, -3.7812, -3.7812, -3.7812, -3.7812, -3.1751, -3.7812, -3.7812, -3.7813, -3.7813, -3.7815, -3.7815, -3.1716, -5.5511, -5.552, -3.4711, -3.4711, -3.4711, -3.4711, -3.4711, -3.4711, -3.4712, -3.4712, -3.4711, -3.4712, -3.4713, -3.4711, -3.4706, -3.4712, -3.4712, -3.4718, -5.2628, -5.2628, -5.2628, -5.2628, -5.2628, -5.2628, -5.2628, -5.2628, -5.2628, -5.2628, -3.4722, -5.2628, -5.2628, -5.2628, -5.2601, -5.2602, -5.2601, -5.2605, -5.2605, -5.2606, -5.2606, -5.2595, -5.2605, -5.2608, -5.2608, -5.2609, -5.2609, -3.3606, -3.3606, -3.363, -3.3631, -3.3632, -3.3632, -3.3632, -3.3632, -3.3641, -3.3643, -3.3637, -3.3635, -3.3609, -5.1521, -5.1522, -5.1522, -5.1522, -5.1522, -5.1523, -5.1523, -5.1523, -5.1522, -5.1522, -5.1522, -5.1522, -5.1522, -5.1522, -5.1522, -5.1523, -5.1523, -5.1516, -5.152, -5.1521, -5.1521, -5.1522, -5.1522, -5.1522, -5.1522, -5.1522, -5.1522, -5.1522, -5.1522, -5.1522, -5.1522, -5.1522, -5.1522], \"loglift\": [30.0, 29.0, 28.0, 27.0, 26.0, 25.0, 24.0, 23.0, 22.0, 21.0, 20.0, 19.0, 18.0, 17.0, 16.0, 15.0, 14.0, 13.0, 12.0, 11.0, 10.0, 9.0, 8.0, 7.0, 6.0, 5.0, 4.0, 3.0, 2.0, 1.0, 0.7666, 0.7666, 0.6874, 0.6803, 0.6083, 0.6083, 0.6083, 0.6083, 0.6083, 0.6083, 0.6083, 0.6083, 0.6083, 0.6083, 0.6083, 0.6083, 0.6083, 0.6083, 0.6083, 0.6083, 0.6083, 0.6083, 0.6083, 0.6083, 0.6083, 0.6083, 0.6083, 0.6083, 0.6083, 0.6083, 0.5596, 0.4983, 0.4983, 0.2204, 0.1007, 0.0107, 0.0107, 0.215, 0.2256, 0.2256, 0.3381, 1.0506, 1.0506, 1.0506, 1.0506, 1.0506, 1.0506, 1.0506, 1.0465, 1.0462, 1.0462, 1.046, 1.0458, 1.0457, 1.0456, 1.0456, 1.0451, 1.045, 1.0448, 1.0446, 1.0445, 1.0443, 1.0436, 1.0435, 1.0426, 1.0035, 0.6395, 0.5704, 0.564, 0.2471, 0.2471, -0.0065, 1.291, 1.1019, 1.1019, 1.1019, 1.1019, 1.1019, 1.1019, 1.1019, 1.1019, 1.1019, 1.1019, 1.1019, 1.1019, 1.1019, 1.1019, 1.1019, 1.1019, 1.1019, 1.1019, 1.1018, 1.062, 0.7722, 0.6734, 0.6153, 0.6152, 0.3998, 0.3998, 0.0939, -0.4781, -0.479, 1.5476, 1.5476, 1.5475, 1.5475, 1.5475, 1.5475, 1.5475, 1.5475, 1.2151, 1.0821, 0.8, 0.7659, 0.7477, 0.7101, 0.7101, 0.3985, -0.1889, -0.1889, -0.1896, -0.1896, -0.1896, -0.1896, -0.1896, -0.1896, -0.1898, -0.1899, -0.2066, -0.3797, -0.3797, -0.3797, -0.3948, -0.3949, -0.395, -0.3955, -0.3953, -0.3954, -0.3955, -2.0469, -0.8751, -0.3955, -0.3957, -0.3958, -0.3958, 1.7132, 1.7132, 1.7102, 1.7101, 1.71, 1.71, 1.71, 1.7099, 1.7089, 1.7087, 1.3226, 1.1455, 0.9105, -0.1335, -0.1336, -0.1336, -0.1336, -0.1336, -0.1336, -0.1336, -0.1336, -0.2692, -0.2692, -0.2692, -0.2692, -0.2692, -0.2692, -0.2692, -0.2692, -0.2692, -1.886, -1.9394, -0.5987, -1.0893, -0.7664, -0.6976, -1.0893, -0.9709, -0.2866, -0.9339, -0.6861, -1.282, -0.9709, -0.9151, -0.7557, -0.8207]}, \"token.table\": {\"Topic\": [2, 1, 1, 3, 4, 2, 1, 3, 3, 1, 2, 2, 1, 2, 3, 2, 3, 1, 3, 4, 3, 1, 1, 4, 1, 4, 3, 3, 1, 4, 3, 3, 4, 1, 1, 3, 2, 3, 1, 2, 2, 2, 1, 1, 2, 2, 3, 3, 1, 3, 2, 4, 1, 2, 4, 1, 3, 4, 1, 4, 2, 4, 2, 2, 2, 1, 2, 2, 1, 1, 4, 1, 4, 1, 2, 1, 2, 2, 1, 2, 1, 3, 3, 1, 4, 1, 1, 1, 3, 2, 1, 3, 1, 2, 3, 1, 1, 3, 2, 3, 4, 1, 1, 3, 3, 2, 2, 4, 2, 1, 2, 3, 1, 3, 4, 1, 1], \"Freq\": [0.8643948487145484, 0.793496714653276, 0.43634844113332466, 0.43634844113332466, 0.43634844113332466, 0.8650064882460321, 0.5411245399776197, 0.5411245399776197, 0.8802399471060722, 0.5351390937602543, 0.5351390937602543, 0.8647320092032593, 0.535324513822137, 0.535324513822137, 0.8802386413802558, 0.8646334163213034, 0.8802389792300608, 0.7935003002481981, 0.4613627902026518, 0.4613627902026518, 0.5801127675645498, 0.7934967698009402, 0.6393800718910513, 0.31969003594552564, 0.7934991974750918, 1.0080629284835532, 0.880239421272415, 0.8802387120759814, 1.0141037514495097, 0.7229779610781419, 0.8802394802315229, 0.6330079707124499, 0.6330079707124499, 0.7934973984780695, 0.5411269338606369, 0.5411269338606369, 0.8646599378999286, 0.8802406491293076, 0.7934997969557891, 0.8646750104835872, 0.8645717241356701, 0.8645962451012459, 0.7934978887034203, 0.662511096153835, 0.16562777403845874, 0.5734598636947776, 0.5734598636947776, 0.8802394320526621, 0.7934974728979075, 0.8802392839712564, 0.8650076317194821, 1.0080576537965613, 0.793498597593666, 0.8646917634969704, 1.0080661523422723, 0.4363479872422463, 0.4363479872422463, 0.4363479872422463, 0.7935011788919488, 1.008067353825491, 0.8647328786485644, 1.0080669918981768, 0.8650085364942648, 0.8646784866406682, 0.8646356989736208, 0.7934986831689484, 0.8646205521576108, 0.864559009128384, 0.7934988297917658, 0.7934991637071587, 1.008067509636056, 0.4774365789584357, 0.4774365789584357, 0.7751875405132691, 0.38759377025663455, 0.7934965347917029, 0.8644993367691759, 0.8650062189435704, 0.77518876466659, 0.387594382333295, 1.0141064008547231, 0.8802390607024246, 0.8802397712474737, 0.6055589664983366, 1.008065156082159, 0.7935001824017324, 0.7934992677387329, 0.7934993499318609, 0.8802390816281348, 0.8650075035511356, 0.7934980008547967, 0.8802392674191872, 0.7934976298465289, 0.8644644157256612, 0.8802395078338413, 0.7934988503478856, 0.7934973133110674, 0.8802398198062087, 0.8645696343339904, 0.880239184224303, 1.0080598081750038, 0.793497588269863, 0.7934979650754498, 0.8802403254139837, 0.8802401461647957, 0.8650075498228549, 0.45276131056002333, 0.45276131056002333, 0.8650060538357088, 0.7934993847352579, 0.8645953598379114, 0.8802402694832392, 0.6985016903408132, 0.1746254225852033, 0.1746254225852033, 0.793498223908415, 0.7934985326216206], \"Term\": [\"amount\", \"analytical\", \"balance\", \"balance\", \"balance\", \"big\", \"build\", \"build\", \"care\", \"challenge\", \"challenge\", \"choice\", \"client\", \"client\", \"cliquey\", \"cloud\", \"colleague\", \"comp\", \"company\", \"company\", \"consulting\", \"core\", \"culture\", \"culture\", \"decent\", \"develop\", \"diverse\", \"diversity\", \"dynamic\", \"efficio\", \"employee\", \"environment\", \"environment\", \"excel\", \"exposure\", \"exposure\", \"finally\", \"firm\", \"flexibility\", \"forward\", \"framework\", \"freedom\", \"frequent\", \"good\", \"good\", \"great\", \"great\", \"high\", \"hour\", \"however\", \"interesting\", \"knit\", \"language\", \"learn\", \"level\", \"life\", \"life\", \"life\", \"location\", \"lot\", \"make\", \"manager\", \"member\", \"modern\", \"move\", \"much\", \"new\", \"opportunity\", \"option\", \"party\", \"pay\", \"people\", \"people\", \"place\", \"place\", \"ppt\", \"problem\", \"procurement\", \"project\", \"project\", \"promotion\", \"quickly\", \"quite\", \"rapid\", \"reason\", \"salarie\", \"salary\", \"second\", \"senior\", \"set\", \"skill\", \"skillset\", \"solid\", \"solve\", \"sometimes\", \"speak\", \"sql\", \"standard\", \"start\", \"strong\", \"suite\", \"support\", \"tableau\", \"take\", \"talented\", \"team\", \"technology\", \"technology\", \"top\", \"travel\", \"use\", \"well\", \"work\", \"work\", \"work\", \"workforce\", \"young\"]}, \"R\": 30, \"lambda.step\": 0.01, \"plot.opts\": {\"xlab\": \"PC1\", \"ylab\": \"PC2\"}, \"topic.order\": [2, 4, 1, 5, 3]};\n\nfunction LDAvis_load_lib(url, callback){\n  var s = document.createElement('script');\n  s.src = url;\n  s.async = true;\n  s.onreadystatechange = s.onload = callback;\n  s.onerror = function(){console.warn(\"failed to load library \" + url);};\n  document.getElementsByTagName(\"head\")[0].appendChild(s);\n}\n\nif(typeof(LDAvis) !== \"undefined\"){\n   // already loaded: just create the visualization\n   !function(LDAvis){\n       new LDAvis(\"#\" + \"ldavis_el583612539828023204078177536\", ldavis_el583612539828023204078177536_data);\n   }(LDAvis);\n}else if(typeof define === \"function\" && define.amd){\n   // require.js is available: use it to load d3/LDAvis\n   require.config({paths: {d3: \"https://d3js.org/d3.v5\"}});\n   require([\"d3\"], function(d3){\n      window.d3 = d3;\n      LDAvis_load_lib(\"https://cdn.jsdelivr.net/gh/bmabey/pyLDAvis@3.2.2/pyLDAvis/js/ldavis.v3.0.0.js\", function(){\n        new LDAvis(\"#\" + \"ldavis_el583612539828023204078177536\", ldavis_el583612539828023204078177536_data);\n      });\n    });\n}else{\n    // require.js not available: dynamically load d3 & LDAvis\n    LDAvis_load_lib(\"https://d3js.org/d3.v5.js\", function(){\n         LDAvis_load_lib(\"https://cdn.jsdelivr.net/gh/bmabey/pyLDAvis@3.2.2/pyLDAvis/js/ldavis.v3.0.0.js\", function(){\n                 new LDAvis(\"#\" + \"ldavis_el583612539828023204078177536\", ldavis_el583612539828023204078177536_data);\n            })\n         });\n}\n</script>"
     },
     "execution_count": 45,
     "metadata": {},
     "output_type": "execute_result"
    }
   ],
   "source": [
    "\n",
    "pyLDAvis.enable_notebook()\n",
    "vis = pyLDAvis.gensim.prepare(lda_model, corpus, id2word)\n",
    "vis\n",
    "\n",
    "\n"
   ],
   "metadata": {
    "collapsed": false,
    "pycharm": {
     "name": "#%%\n"
    }
   }
  }
 ],
 "metadata": {
  "kernelspec": {
   "display_name": "Python 3",
   "language": "python",
   "name": "python3"
  },
  "language_info": {
   "codemirror_mode": {
    "name": "ipython",
    "version": 2
   },
   "file_extension": ".py",
   "mimetype": "text/x-python",
   "name": "python",
   "nbconvert_exporter": "python",
   "pygments_lexer": "ipython2",
   "version": "2.7.6"
  }
 },
 "nbformat": 4,
 "nbformat_minor": 0
}